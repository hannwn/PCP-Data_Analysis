{
 "cells": [
  {
   "attachments": {},
   "cell_type": "markdown",
   "metadata": {},
   "source": [
    "# Purwadhika Capstone Project 2 : Data Analysis"
   ]
  },
  {
   "attachments": {},
   "cell_type": "markdown",
   "metadata": {},
   "source": [
    "In this project, I am taking a role as data analyst to analyze a certain dataset and the result should intended to help stakeholders in decision making.\n",
    "<br>For this project, I have analyzed Online Retail dataset with the questions or goals for the analysis described below."
   ]
  },
  {
   "attachments": {},
   "cell_type": "markdown",
   "metadata": {},
   "source": [
    "## Questions\n",
    "1. Which warehouse block have the most problems in shipping delivery durations together with the method?\n",
    "2. Is product importance affects on time delivery?\n",
    "3. Is Cost of Product/Price affects on time delivery?\n",
    "4. Do late deliveries affect both customer rating and customer care calls?"
   ]
  },
  {
   "attachments": {},
   "cell_type": "markdown",
   "metadata": {},
   "source": [
    "## Data\n",
    "The dataset are records of an online retail customer which composed of:\n",
    "<ol>\n",
    "<li>ID: ID number of customer</li>\n",
    "<li>Warehouse_block: Code of warehouse blocks used to store inventory, from A to E</li>\n",
    "<li>Mode_of_shipment: Shipment method utilized by company, available methods are:</li>\n",
    "    <ul>\n",
    "    <li>Ship</li>\n",
    "    <li>Flight</li>\n",
    "    <li>Road</li>\n",
    "    </ul>\n",
    "<li>Customer_care_calls: Number of calls made by customer for inquiries of shipment</li>\n",
    "<li>Customer_rating: Rating from customer, from 1 (lowest) to 5 (highest)</li>\n",
    "<li>Cost_of_the_product: Cost of product in US Dollars</li>\n",
    "<li>Prior_purchases: Number of prior purchases</li>\n",
    "<li>Product_purchases: Importance of product categorized by company, composed of low, medium, high</li>\n",
    "<li>Gender: Gender of customer</li>\n",
    "<li>Discount_offered: Discount offered on that specific product</li>\n",
    "<li>Weight_in_gms: The weight of product in grams</li>\n",
    "<li>Reached.on.time: Coded in binary, 1 indicates the product has not arrived on time and 0 indicates product has arrived on time</li>\n",
    "</ol>"
   ]
  },
  {
   "attachments": {},
   "cell_type": "markdown",
   "metadata": {},
   "source": [
    "## Libraries used in the Data Analysis"
   ]
  },
  {
   "cell_type": "code",
   "execution_count": 52,
   "metadata": {},
   "outputs": [],
   "source": [
    "import numpy as np\n",
    "import pandas as pd\n",
    "import seaborn as sns\n",
    "import matplotlib.pyplot as plt\n",
    "%matplotlib inline\n",
    "\n",
    "from scipy.stats import normaltest, chi2_contingency, pointbiserialr"
   ]
  },
  {
   "attachments": {},
   "cell_type": "markdown",
   "metadata": {},
   "source": [
    "## Data Overview"
   ]
  },
  {
   "cell_type": "code",
   "execution_count": 53,
   "metadata": {},
   "outputs": [
    {
     "data": {
      "text/html": [
       "<div>\n",
       "<style scoped>\n",
       "    .dataframe tbody tr th:only-of-type {\n",
       "        vertical-align: middle;\n",
       "    }\n",
       "\n",
       "    .dataframe tbody tr th {\n",
       "        vertical-align: top;\n",
       "    }\n",
       "\n",
       "    .dataframe thead th {\n",
       "        text-align: right;\n",
       "    }\n",
       "</style>\n",
       "<table border=\"1\" class=\"dataframe\">\n",
       "  <thead>\n",
       "    <tr style=\"text-align: right;\">\n",
       "      <th></th>\n",
       "      <th>ID</th>\n",
       "      <th>Warehouse_block</th>\n",
       "      <th>Mode_of_Shipment</th>\n",
       "      <th>Customer_care_calls</th>\n",
       "      <th>Customer_rating</th>\n",
       "      <th>Cost_of_the_Product</th>\n",
       "      <th>Prior_purchases</th>\n",
       "      <th>Product_importance</th>\n",
       "      <th>Gender</th>\n",
       "      <th>Discount_offered</th>\n",
       "      <th>Weight_in_gms</th>\n",
       "      <th>Reached.on.Time_Y.N</th>\n",
       "    </tr>\n",
       "  </thead>\n",
       "  <tbody>\n",
       "    <tr>\n",
       "      <th>0</th>\n",
       "      <td>1</td>\n",
       "      <td>D</td>\n",
       "      <td>Flight</td>\n",
       "      <td>4</td>\n",
       "      <td>2</td>\n",
       "      <td>177</td>\n",
       "      <td>3</td>\n",
       "      <td>low</td>\n",
       "      <td>F</td>\n",
       "      <td>44</td>\n",
       "      <td>1233</td>\n",
       "      <td>1</td>\n",
       "    </tr>\n",
       "    <tr>\n",
       "      <th>1</th>\n",
       "      <td>2</td>\n",
       "      <td>F</td>\n",
       "      <td>Flight</td>\n",
       "      <td>4</td>\n",
       "      <td>5</td>\n",
       "      <td>216</td>\n",
       "      <td>2</td>\n",
       "      <td>low</td>\n",
       "      <td>M</td>\n",
       "      <td>59</td>\n",
       "      <td>3088</td>\n",
       "      <td>1</td>\n",
       "    </tr>\n",
       "    <tr>\n",
       "      <th>2</th>\n",
       "      <td>3</td>\n",
       "      <td>A</td>\n",
       "      <td>Flight</td>\n",
       "      <td>2</td>\n",
       "      <td>2</td>\n",
       "      <td>183</td>\n",
       "      <td>4</td>\n",
       "      <td>low</td>\n",
       "      <td>M</td>\n",
       "      <td>48</td>\n",
       "      <td>3374</td>\n",
       "      <td>1</td>\n",
       "    </tr>\n",
       "    <tr>\n",
       "      <th>3</th>\n",
       "      <td>4</td>\n",
       "      <td>B</td>\n",
       "      <td>Flight</td>\n",
       "      <td>3</td>\n",
       "      <td>3</td>\n",
       "      <td>176</td>\n",
       "      <td>4</td>\n",
       "      <td>medium</td>\n",
       "      <td>M</td>\n",
       "      <td>10</td>\n",
       "      <td>1177</td>\n",
       "      <td>1</td>\n",
       "    </tr>\n",
       "    <tr>\n",
       "      <th>4</th>\n",
       "      <td>5</td>\n",
       "      <td>C</td>\n",
       "      <td>Flight</td>\n",
       "      <td>2</td>\n",
       "      <td>2</td>\n",
       "      <td>184</td>\n",
       "      <td>3</td>\n",
       "      <td>medium</td>\n",
       "      <td>F</td>\n",
       "      <td>46</td>\n",
       "      <td>2484</td>\n",
       "      <td>1</td>\n",
       "    </tr>\n",
       "    <tr>\n",
       "      <th>...</th>\n",
       "      <td>...</td>\n",
       "      <td>...</td>\n",
       "      <td>...</td>\n",
       "      <td>...</td>\n",
       "      <td>...</td>\n",
       "      <td>...</td>\n",
       "      <td>...</td>\n",
       "      <td>...</td>\n",
       "      <td>...</td>\n",
       "      <td>...</td>\n",
       "      <td>...</td>\n",
       "      <td>...</td>\n",
       "    </tr>\n",
       "    <tr>\n",
       "      <th>10994</th>\n",
       "      <td>10995</td>\n",
       "      <td>A</td>\n",
       "      <td>Ship</td>\n",
       "      <td>4</td>\n",
       "      <td>1</td>\n",
       "      <td>252</td>\n",
       "      <td>5</td>\n",
       "      <td>medium</td>\n",
       "      <td>F</td>\n",
       "      <td>1</td>\n",
       "      <td>1538</td>\n",
       "      <td>1</td>\n",
       "    </tr>\n",
       "    <tr>\n",
       "      <th>10995</th>\n",
       "      <td>10996</td>\n",
       "      <td>B</td>\n",
       "      <td>Ship</td>\n",
       "      <td>4</td>\n",
       "      <td>1</td>\n",
       "      <td>232</td>\n",
       "      <td>5</td>\n",
       "      <td>medium</td>\n",
       "      <td>F</td>\n",
       "      <td>6</td>\n",
       "      <td>1247</td>\n",
       "      <td>0</td>\n",
       "    </tr>\n",
       "    <tr>\n",
       "      <th>10996</th>\n",
       "      <td>10997</td>\n",
       "      <td>C</td>\n",
       "      <td>Ship</td>\n",
       "      <td>5</td>\n",
       "      <td>4</td>\n",
       "      <td>242</td>\n",
       "      <td>5</td>\n",
       "      <td>low</td>\n",
       "      <td>F</td>\n",
       "      <td>4</td>\n",
       "      <td>1155</td>\n",
       "      <td>0</td>\n",
       "    </tr>\n",
       "    <tr>\n",
       "      <th>10997</th>\n",
       "      <td>10998</td>\n",
       "      <td>F</td>\n",
       "      <td>Ship</td>\n",
       "      <td>5</td>\n",
       "      <td>2</td>\n",
       "      <td>223</td>\n",
       "      <td>6</td>\n",
       "      <td>medium</td>\n",
       "      <td>M</td>\n",
       "      <td>2</td>\n",
       "      <td>1210</td>\n",
       "      <td>0</td>\n",
       "    </tr>\n",
       "    <tr>\n",
       "      <th>10998</th>\n",
       "      <td>10999</td>\n",
       "      <td>D</td>\n",
       "      <td>Ship</td>\n",
       "      <td>2</td>\n",
       "      <td>5</td>\n",
       "      <td>155</td>\n",
       "      <td>5</td>\n",
       "      <td>low</td>\n",
       "      <td>F</td>\n",
       "      <td>6</td>\n",
       "      <td>1639</td>\n",
       "      <td>0</td>\n",
       "    </tr>\n",
       "  </tbody>\n",
       "</table>\n",
       "<p>10999 rows × 12 columns</p>\n",
       "</div>"
      ],
      "text/plain": [
       "          ID Warehouse_block Mode_of_Shipment  Customer_care_calls  \\\n",
       "0          1               D           Flight                    4   \n",
       "1          2               F           Flight                    4   \n",
       "2          3               A           Flight                    2   \n",
       "3          4               B           Flight                    3   \n",
       "4          5               C           Flight                    2   \n",
       "...      ...             ...              ...                  ...   \n",
       "10994  10995               A             Ship                    4   \n",
       "10995  10996               B             Ship                    4   \n",
       "10996  10997               C             Ship                    5   \n",
       "10997  10998               F             Ship                    5   \n",
       "10998  10999               D             Ship                    2   \n",
       "\n",
       "       Customer_rating  Cost_of_the_Product  Prior_purchases  \\\n",
       "0                    2                  177                3   \n",
       "1                    5                  216                2   \n",
       "2                    2                  183                4   \n",
       "3                    3                  176                4   \n",
       "4                    2                  184                3   \n",
       "...                ...                  ...              ...   \n",
       "10994                1                  252                5   \n",
       "10995                1                  232                5   \n",
       "10996                4                  242                5   \n",
       "10997                2                  223                6   \n",
       "10998                5                  155                5   \n",
       "\n",
       "      Product_importance Gender  Discount_offered  Weight_in_gms  \\\n",
       "0                    low      F                44           1233   \n",
       "1                    low      M                59           3088   \n",
       "2                    low      M                48           3374   \n",
       "3                 medium      M                10           1177   \n",
       "4                 medium      F                46           2484   \n",
       "...                  ...    ...               ...            ...   \n",
       "10994             medium      F                 1           1538   \n",
       "10995             medium      F                 6           1247   \n",
       "10996                low      F                 4           1155   \n",
       "10997             medium      M                 2           1210   \n",
       "10998                low      F                 6           1639   \n",
       "\n",
       "       Reached.on.Time_Y.N  \n",
       "0                        1  \n",
       "1                        1  \n",
       "2                        1  \n",
       "3                        1  \n",
       "4                        1  \n",
       "...                    ...  \n",
       "10994                    1  \n",
       "10995                    0  \n",
       "10996                    0  \n",
       "10997                    0  \n",
       "10998                    0  \n",
       "\n",
       "[10999 rows x 12 columns]"
      ]
     },
     "execution_count": 53,
     "metadata": {},
     "output_type": "execute_result"
    }
   ],
   "source": [
    "retail = pd.read_csv('Online Retail Shipping.csv')\n",
    "retail"
   ]
  },
  {
   "cell_type": "code",
   "execution_count": 54,
   "metadata": {},
   "outputs": [
    {
     "name": "stdout",
     "output_type": "stream",
     "text": [
      "<class 'pandas.core.frame.DataFrame'>\n",
      "RangeIndex: 10999 entries, 0 to 10998\n",
      "Data columns (total 12 columns):\n",
      " #   Column               Non-Null Count  Dtype \n",
      "---  ------               --------------  ----- \n",
      " 0   ID                   10999 non-null  int64 \n",
      " 1   Warehouse_block      10999 non-null  object\n",
      " 2   Mode_of_Shipment     10999 non-null  object\n",
      " 3   Customer_care_calls  10999 non-null  int64 \n",
      " 4   Customer_rating      10999 non-null  int64 \n",
      " 5   Cost_of_the_Product  10999 non-null  int64 \n",
      " 6   Prior_purchases      10999 non-null  int64 \n",
      " 7   Product_importance   10999 non-null  object\n",
      " 8   Gender               10999 non-null  object\n",
      " 9   Discount_offered     10999 non-null  int64 \n",
      " 10  Weight_in_gms        10999 non-null  int64 \n",
      " 11  Reached.on.Time_Y.N  10999 non-null  int64 \n",
      "dtypes: int64(8), object(4)\n",
      "memory usage: 1.0+ MB\n"
     ]
    }
   ],
   "source": [
    "retail.info()"
   ]
  },
  {
   "cell_type": "code",
   "execution_count": 55,
   "metadata": {},
   "outputs": [
    {
     "name": "stdout",
     "output_type": "stream",
     "text": [
      "Retail dataset has (10999, 12) rows and columns\n"
     ]
    }
   ],
   "source": [
    "print('Retail dataset has',retail.shape,'rows and columns')"
   ]
  },
  {
   "attachments": {},
   "cell_type": "markdown",
   "metadata": {},
   "source": [
    "Based from both information presented by retail.info and retail.shape:\n",
    "\n",
    "1. There are 10999 rows and 12 columns inside Online Retail Dataset.\n",
    "2. All of the columns did not have missing or NaN values.\n",
    "3. All columns which should have string data type (Warehouse_block, Mode_of_Shipment, Product_importance, Gender) have correct data type.\n",
    "4. All columns which should have integer data type (ID, Customer_care_calls, Customer_rating, Prior purchases, Discount_offered, Weight_in_gms, Reached.on.Time) have correct data type.\n"
   ]
  },
  {
   "cell_type": "code",
   "execution_count": 56,
   "metadata": {},
   "outputs": [
    {
     "data": {
      "text/html": [
       "<div>\n",
       "<style scoped>\n",
       "    .dataframe tbody tr th:only-of-type {\n",
       "        vertical-align: middle;\n",
       "    }\n",
       "\n",
       "    .dataframe tbody tr th {\n",
       "        vertical-align: top;\n",
       "    }\n",
       "\n",
       "    .dataframe thead th {\n",
       "        text-align: right;\n",
       "    }\n",
       "</style>\n",
       "<table border=\"1\" class=\"dataframe\">\n",
       "  <thead>\n",
       "    <tr style=\"text-align: right;\">\n",
       "      <th></th>\n",
       "      <th>Column Name</th>\n",
       "      <th>Number of Unique Data</th>\n",
       "      <th>Unique Sample</th>\n",
       "    </tr>\n",
       "  </thead>\n",
       "  <tbody>\n",
       "    <tr>\n",
       "      <th>0</th>\n",
       "      <td>ID</td>\n",
       "      <td>10999</td>\n",
       "      <td>[1, 2, 3, 4, 5, 6, 7, 8, 9, 10, 11, 12, 13, 14, 15, 16, 17, 18, 19, 20, 21, 22, 23, 24, 25, 26, 27, 28, 29, 30, 31, 32, 33, 34, 35, 36, 37, 38, 39, 40, 41, 42, 43, 44, 45, 46, 47, 48, 49, 50, 51, 52, 53, 54, 55, 56, 57, 58, 59, 60, 61, 62, 63, 64, 65, 66, 67, 68, 69, 70, 71, 72, 73, 74, 75, 76, 77, 78, 79, 80, 81, 82, 83, 84, 85, 86, 87, 88, 89, 90, 91, 92, 93, 94, 95, 96, 97, 98, 99, 100, ...]</td>\n",
       "    </tr>\n",
       "    <tr>\n",
       "      <th>1</th>\n",
       "      <td>Warehouse_block</td>\n",
       "      <td>5</td>\n",
       "      <td>[D, F, A, B, C]</td>\n",
       "    </tr>\n",
       "    <tr>\n",
       "      <th>2</th>\n",
       "      <td>Mode_of_Shipment</td>\n",
       "      <td>3</td>\n",
       "      <td>[Flight, Ship, Road]</td>\n",
       "    </tr>\n",
       "    <tr>\n",
       "      <th>3</th>\n",
       "      <td>Customer_care_calls</td>\n",
       "      <td>6</td>\n",
       "      <td>[4, 2, 3, 5, 6, 7]</td>\n",
       "    </tr>\n",
       "    <tr>\n",
       "      <th>4</th>\n",
       "      <td>Customer_rating</td>\n",
       "      <td>5</td>\n",
       "      <td>[2, 5, 3, 1, 4]</td>\n",
       "    </tr>\n",
       "    <tr>\n",
       "      <th>5</th>\n",
       "      <td>Cost_of_the_Product</td>\n",
       "      <td>215</td>\n",
       "      <td>[177, 216, 183, 176, 184, 162, 250, 233, 150, 164, 189, 232, 198, 275, 152, 227, 143, 239, 145, 161, 156, 211, 251, 225, 172, 234, 266, 257, 223, 149, 137, 181, 215, 269, 139, 174, 151, 210, 169, 160, 190, 141, 165, 170, 203, 246, 238, 193, 221, 179, 105, 261, 202, 109, 158, 231, 206, 187, 230, 113, 180, 132, 217, 197, 185, 278, 229, 186, 286, 175, 219, 213, 235, 271, 144, 218, 263, 168, 265, 205, 252, 222, 220, 147, 200, 224, 247, 280, 157, 207, 237, 264, 248, 191, 146, 135, 98, 97, 114, 112, ...]</td>\n",
       "    </tr>\n",
       "    <tr>\n",
       "      <th>6</th>\n",
       "      <td>Prior_purchases</td>\n",
       "      <td>8</td>\n",
       "      <td>[3, 2, 4, 6, 5, 7, 10, 8]</td>\n",
       "    </tr>\n",
       "    <tr>\n",
       "      <th>7</th>\n",
       "      <td>Product_importance</td>\n",
       "      <td>3</td>\n",
       "      <td>[low, medium, high]</td>\n",
       "    </tr>\n",
       "    <tr>\n",
       "      <th>8</th>\n",
       "      <td>Gender</td>\n",
       "      <td>2</td>\n",
       "      <td>[F, M]</td>\n",
       "    </tr>\n",
       "    <tr>\n",
       "      <th>9</th>\n",
       "      <td>Discount_offered</td>\n",
       "      <td>65</td>\n",
       "      <td>[44, 59, 48, 10, 46, 12, 3, 11, 29, 32, 1, 43, 45, 6, 36, 18, 38, 51, 2, 28, 24, 31, 61, 22, 4, 62, 16, 56, 15, 9, 40, 37, 41, 17, 64, 52, 49, 39, 14, 33, 21, 13, 23, 26, 57, 7, 35, 8, 5, 53, 55, 47, 65, 25, 50, 60, 20, 19, 63, 58, 34, 54, 27, 42, 30]</td>\n",
       "    </tr>\n",
       "    <tr>\n",
       "      <th>10</th>\n",
       "      <td>Weight_in_gms</td>\n",
       "      <td>4034</td>\n",
       "      <td>[1233, 3088, 3374, 1177, 2484, 1417, 2371, 2804, 1861, 1187, 2888, 3253, 3667, 2602, 1009, 2707, 1194, 3952, 2495, 1059, 1521, 2899, 1750, 3922, 3561, 3496, 1066, 1435, 3134, 3819, 2741, 3341, 3795, 3261, 2460, 1811, 1477, 3605, 3905, 2383, 3798, 1265, 1647, 1556, 1328, 2944, 1245, 1576, 3753, 2146, 2042, 1735, 1320, 1128, 3539, 2437, 3096, 3453, 1367, 1923, 2794, 1158, 1292, 1880, 3045, 2881, 1710, 1878, 2512, 2929, 3849, 2229, 2998, 3984, 2442, 3775, 1788, 1518, 3959, 3711, 1942, 1759, 2875, 1364, 2710, 2148, 2910, 2974, 2339, 3880, 1085, 3163, 1188, 3387, 2343, 2034, 1225, 2401, 1104, 1617, ...]</td>\n",
       "    </tr>\n",
       "    <tr>\n",
       "      <th>11</th>\n",
       "      <td>Reached.on.Time_Y.N</td>\n",
       "      <td>2</td>\n",
       "      <td>[1, 0]</td>\n",
       "    </tr>\n",
       "  </tbody>\n",
       "</table>\n",
       "</div>"
      ],
      "text/plain": [
       "            Column Name  Number of Unique Data  \\\n",
       "0                    ID                  10999   \n",
       "1       Warehouse_block                      5   \n",
       "2      Mode_of_Shipment                      3   \n",
       "3   Customer_care_calls                      6   \n",
       "4       Customer_rating                      5   \n",
       "5   Cost_of_the_Product                    215   \n",
       "6       Prior_purchases                      8   \n",
       "7    Product_importance                      3   \n",
       "8                Gender                      2   \n",
       "9      Discount_offered                     65   \n",
       "10        Weight_in_gms                   4034   \n",
       "11  Reached.on.Time_Y.N                      2   \n",
       "\n",
       "                                                                                                                                                                                                                                                                                                                                                                                                                                                                                                                                                                                                                    Unique Sample  \n",
       "0                                                                                                                                                                                                                   [1, 2, 3, 4, 5, 6, 7, 8, 9, 10, 11, 12, 13, 14, 15, 16, 17, 18, 19, 20, 21, 22, 23, 24, 25, 26, 27, 28, 29, 30, 31, 32, 33, 34, 35, 36, 37, 38, 39, 40, 41, 42, 43, 44, 45, 46, 47, 48, 49, 50, 51, 52, 53, 54, 55, 56, 57, 58, 59, 60, 61, 62, 63, 64, 65, 66, 67, 68, 69, 70, 71, 72, 73, 74, 75, 76, 77, 78, 79, 80, 81, 82, 83, 84, 85, 86, 87, 88, 89, 90, 91, 92, 93, 94, 95, 96, 97, 98, 99, 100, ...]  \n",
       "1                                                                                                                                                                                                                                                                                                                                                                                                                                                                                                                                                                                                                 [D, F, A, B, C]  \n",
       "2                                                                                                                                                                                                                                                                                                                                                                                                                                                                                                                                                                                                            [Flight, Ship, Road]  \n",
       "3                                                                                                                                                                                                                                                                                                                                                                                                                                                                                                                                                                                                              [4, 2, 3, 5, 6, 7]  \n",
       "4                                                                                                                                                                                                                                                                                                                                                                                                                                                                                                                                                                                                                 [2, 5, 3, 1, 4]  \n",
       "5                                                                                                         [177, 216, 183, 176, 184, 162, 250, 233, 150, 164, 189, 232, 198, 275, 152, 227, 143, 239, 145, 161, 156, 211, 251, 225, 172, 234, 266, 257, 223, 149, 137, 181, 215, 269, 139, 174, 151, 210, 169, 160, 190, 141, 165, 170, 203, 246, 238, 193, 221, 179, 105, 261, 202, 109, 158, 231, 206, 187, 230, 113, 180, 132, 217, 197, 185, 278, 229, 186, 286, 175, 219, 213, 235, 271, 144, 218, 263, 168, 265, 205, 252, 222, 220, 147, 200, 224, 247, 280, 157, 207, 237, 264, 248, 191, 146, 135, 98, 97, 114, 112, ...]  \n",
       "6                                                                                                                                                                                                                                                                                                                                                                                                                                                                                                                                                                                                       [3, 2, 4, 6, 5, 7, 10, 8]  \n",
       "7                                                                                                                                                                                                                                                                                                                                                                                                                                                                                                                                                                                                             [low, medium, high]  \n",
       "8                                                                                                                                                                                                                                                                                                                                                                                                                                                                                                                                                                                                                          [F, M]  \n",
       "9                                                                                                                                                                                                                                                                                                                                                                     [44, 59, 48, 10, 46, 12, 3, 11, 29, 32, 1, 43, 45, 6, 36, 18, 38, 51, 2, 28, 24, 31, 61, 22, 4, 62, 16, 56, 15, 9, 40, 37, 41, 17, 64, 52, 49, 39, 14, 33, 21, 13, 23, 26, 57, 7, 35, 8, 5, 53, 55, 47, 65, 25, 50, 60, 20, 19, 63, 58, 34, 54, 27, 42, 30]  \n",
       "10  [1233, 3088, 3374, 1177, 2484, 1417, 2371, 2804, 1861, 1187, 2888, 3253, 3667, 2602, 1009, 2707, 1194, 3952, 2495, 1059, 1521, 2899, 1750, 3922, 3561, 3496, 1066, 1435, 3134, 3819, 2741, 3341, 3795, 3261, 2460, 1811, 1477, 3605, 3905, 2383, 3798, 1265, 1647, 1556, 1328, 2944, 1245, 1576, 3753, 2146, 2042, 1735, 1320, 1128, 3539, 2437, 3096, 3453, 1367, 1923, 2794, 1158, 1292, 1880, 3045, 2881, 1710, 1878, 2512, 2929, 3849, 2229, 2998, 3984, 2442, 3775, 1788, 1518, 3959, 3711, 1942, 1759, 2875, 1364, 2710, 2148, 2910, 2974, 2339, 3880, 1085, 3163, 1188, 3387, 2343, 2034, 1225, 2401, 1104, 1617, ...]  \n",
       "11                                                                                                                                                                                                                                                                                                                                                                                                                                                                                                                                                                                                                         [1, 0]  "
      ]
     },
     "execution_count": 56,
     "metadata": {},
     "output_type": "execute_result"
    }
   ],
   "source": [
    "pd.set_option('display.max_colwidth', None)\n",
    "listItem = []\n",
    "for column in retail.columns :\n",
    "    listItem.append( [column, retail[column].nunique(), retail[column].unique()])\n",
    "\n",
    "\n",
    "retailDescibe = pd.DataFrame(columns=['Column Name', 'Number of Unique Data', 'Unique Sample'], data=listItem)\n",
    "retailDescibe"
   ]
  },
  {
   "attachments": {},
   "cell_type": "markdown",
   "metadata": {},
   "source": [
    "The values inside Discount_offered column is quite unclear in what terms the discount offered to customer. The discount could be in percentage or in US dollars."
   ]
  },
  {
   "attachments": {},
   "cell_type": "markdown",
   "metadata": {},
   "source": [
    "### Changing Reached.on.Time_Y.N Values\n",
    "Change the values inside Reached.on.Time_Y.N values from 0 (arrive on time ) into yes and 1 (did not arrive on time) into no in a copy of retail dataset, retaining the original data in retail variable.\n",
    "\n",
    "Changing the values will make the data visualizations more readable as the values are in string of yes or no. If the values left in 0 and 1 in integer type, seaborn will treat the values as a range.\n",
    "\n",
    "Below are the example of data visualization of Reached.on.Time_Y.N column in original state:"
   ]
  },
  {
   "cell_type": "code",
   "execution_count": 57,
   "metadata": {},
   "outputs": [
    {
     "data": {
      "text/plain": [
       "<function matplotlib.pyplot.show(close=None, block=None)>"
      ]
     },
     "execution_count": 57,
     "metadata": {},
     "output_type": "execute_result"
    },
    {
     "data": {
      "image/png": "[encoded data removed]",
      "text/plain": [
       "<Figure size 632.236x500 with 1 Axes>"
      ]
     },
     "metadata": {},
     "output_type": "display_data"
    }
   ],
   "source": [
    "sns.displot(\n",
    "    data = retail,\n",
    "    x = 'Reached.on.Time_Y.N',\n",
    "    hue = 'Warehouse_block',\n",
    "    palette = 'pastel'\n",
    ")\n",
    "plt.show"
   ]
  },
  {
   "cell_type": "code",
   "execution_count": 58,
   "metadata": {},
   "outputs": [
    {
     "data": {
      "text/html": [
       "<div>\n",
       "<style scoped>\n",
       "    .dataframe tbody tr th:only-of-type {\n",
       "        vertical-align: middle;\n",
       "    }\n",
       "\n",
       "    .dataframe tbody tr th {\n",
       "        vertical-align: top;\n",
       "    }\n",
       "\n",
       "    .dataframe thead th {\n",
       "        text-align: right;\n",
       "    }\n",
       "</style>\n",
       "<table border=\"1\" class=\"dataframe\">\n",
       "  <thead>\n",
       "    <tr style=\"text-align: right;\">\n",
       "      <th></th>\n",
       "      <th>ID</th>\n",
       "      <th>Warehouse_block</th>\n",
       "      <th>Mode_of_Shipment</th>\n",
       "      <th>Customer_care_calls</th>\n",
       "      <th>Customer_rating</th>\n",
       "      <th>Cost_of_the_Product</th>\n",
       "      <th>Prior_purchases</th>\n",
       "      <th>Product_importance</th>\n",
       "      <th>Gender</th>\n",
       "      <th>Discount_offered</th>\n",
       "      <th>Weight_in_gms</th>\n",
       "      <th>Reached.on.Time_Y.N</th>\n",
       "    </tr>\n",
       "  </thead>\n",
       "  <tbody>\n",
       "    <tr>\n",
       "      <th>0</th>\n",
       "      <td>1</td>\n",
       "      <td>D</td>\n",
       "      <td>Flight</td>\n",
       "      <td>4</td>\n",
       "      <td>2</td>\n",
       "      <td>177</td>\n",
       "      <td>3</td>\n",
       "      <td>low</td>\n",
       "      <td>F</td>\n",
       "      <td>44</td>\n",
       "      <td>1233</td>\n",
       "      <td>no</td>\n",
       "    </tr>\n",
       "    <tr>\n",
       "      <th>1</th>\n",
       "      <td>2</td>\n",
       "      <td>F</td>\n",
       "      <td>Flight</td>\n",
       "      <td>4</td>\n",
       "      <td>5</td>\n",
       "      <td>216</td>\n",
       "      <td>2</td>\n",
       "      <td>low</td>\n",
       "      <td>M</td>\n",
       "      <td>59</td>\n",
       "      <td>3088</td>\n",
       "      <td>no</td>\n",
       "    </tr>\n",
       "    <tr>\n",
       "      <th>2</th>\n",
       "      <td>3</td>\n",
       "      <td>A</td>\n",
       "      <td>Flight</td>\n",
       "      <td>2</td>\n",
       "      <td>2</td>\n",
       "      <td>183</td>\n",
       "      <td>4</td>\n",
       "      <td>low</td>\n",
       "      <td>M</td>\n",
       "      <td>48</td>\n",
       "      <td>3374</td>\n",
       "      <td>no</td>\n",
       "    </tr>\n",
       "    <tr>\n",
       "      <th>3</th>\n",
       "      <td>4</td>\n",
       "      <td>B</td>\n",
       "      <td>Flight</td>\n",
       "      <td>3</td>\n",
       "      <td>3</td>\n",
       "      <td>176</td>\n",
       "      <td>4</td>\n",
       "      <td>medium</td>\n",
       "      <td>M</td>\n",
       "      <td>10</td>\n",
       "      <td>1177</td>\n",
       "      <td>no</td>\n",
       "    </tr>\n",
       "    <tr>\n",
       "      <th>4</th>\n",
       "      <td>5</td>\n",
       "      <td>C</td>\n",
       "      <td>Flight</td>\n",
       "      <td>2</td>\n",
       "      <td>2</td>\n",
       "      <td>184</td>\n",
       "      <td>3</td>\n",
       "      <td>medium</td>\n",
       "      <td>F</td>\n",
       "      <td>46</td>\n",
       "      <td>2484</td>\n",
       "      <td>no</td>\n",
       "    </tr>\n",
       "    <tr>\n",
       "      <th>...</th>\n",
       "      <td>...</td>\n",
       "      <td>...</td>\n",
       "      <td>...</td>\n",
       "      <td>...</td>\n",
       "      <td>...</td>\n",
       "      <td>...</td>\n",
       "      <td>...</td>\n",
       "      <td>...</td>\n",
       "      <td>...</td>\n",
       "      <td>...</td>\n",
       "      <td>...</td>\n",
       "      <td>...</td>\n",
       "    </tr>\n",
       "    <tr>\n",
       "      <th>10994</th>\n",
       "      <td>10995</td>\n",
       "      <td>A</td>\n",
       "      <td>Ship</td>\n",
       "      <td>4</td>\n",
       "      <td>1</td>\n",
       "      <td>252</td>\n",
       "      <td>5</td>\n",
       "      <td>medium</td>\n",
       "      <td>F</td>\n",
       "      <td>1</td>\n",
       "      <td>1538</td>\n",
       "      <td>no</td>\n",
       "    </tr>\n",
       "    <tr>\n",
       "      <th>10995</th>\n",
       "      <td>10996</td>\n",
       "      <td>B</td>\n",
       "      <td>Ship</td>\n",
       "      <td>4</td>\n",
       "      <td>1</td>\n",
       "      <td>232</td>\n",
       "      <td>5</td>\n",
       "      <td>medium</td>\n",
       "      <td>F</td>\n",
       "      <td>6</td>\n",
       "      <td>1247</td>\n",
       "      <td>yes</td>\n",
       "    </tr>\n",
       "    <tr>\n",
       "      <th>10996</th>\n",
       "      <td>10997</td>\n",
       "      <td>C</td>\n",
       "      <td>Ship</td>\n",
       "      <td>5</td>\n",
       "      <td>4</td>\n",
       "      <td>242</td>\n",
       "      <td>5</td>\n",
       "      <td>low</td>\n",
       "      <td>F</td>\n",
       "      <td>4</td>\n",
       "      <td>1155</td>\n",
       "      <td>yes</td>\n",
       "    </tr>\n",
       "    <tr>\n",
       "      <th>10997</th>\n",
       "      <td>10998</td>\n",
       "      <td>F</td>\n",
       "      <td>Ship</td>\n",
       "      <td>5</td>\n",
       "      <td>2</td>\n",
       "      <td>223</td>\n",
       "      <td>6</td>\n",
       "      <td>medium</td>\n",
       "      <td>M</td>\n",
       "      <td>2</td>\n",
       "      <td>1210</td>\n",
       "      <td>yes</td>\n",
       "    </tr>\n",
       "    <tr>\n",
       "      <th>10998</th>\n",
       "      <td>10999</td>\n",
       "      <td>D</td>\n",
       "      <td>Ship</td>\n",
       "      <td>2</td>\n",
       "      <td>5</td>\n",
       "      <td>155</td>\n",
       "      <td>5</td>\n",
       "      <td>low</td>\n",
       "      <td>F</td>\n",
       "      <td>6</td>\n",
       "      <td>1639</td>\n",
       "      <td>yes</td>\n",
       "    </tr>\n",
       "  </tbody>\n",
       "</table>\n",
       "<p>10999 rows × 12 columns</p>\n",
       "</div>"
      ],
      "text/plain": [
       "          ID Warehouse_block Mode_of_Shipment  Customer_care_calls  \\\n",
       "0          1               D           Flight                    4   \n",
       "1          2               F           Flight                    4   \n",
       "2          3               A           Flight                    2   \n",
       "3          4               B           Flight                    3   \n",
       "4          5               C           Flight                    2   \n",
       "...      ...             ...              ...                  ...   \n",
       "10994  10995               A             Ship                    4   \n",
       "10995  10996               B             Ship                    4   \n",
       "10996  10997               C             Ship                    5   \n",
       "10997  10998               F             Ship                    5   \n",
       "10998  10999               D             Ship                    2   \n",
       "\n",
       "       Customer_rating  Cost_of_the_Product  Prior_purchases  \\\n",
       "0                    2                  177                3   \n",
       "1                    5                  216                2   \n",
       "2                    2                  183                4   \n",
       "3                    3                  176                4   \n",
       "4                    2                  184                3   \n",
       "...                ...                  ...              ...   \n",
       "10994                1                  252                5   \n",
       "10995                1                  232                5   \n",
       "10996                4                  242                5   \n",
       "10997                2                  223                6   \n",
       "10998                5                  155                5   \n",
       "\n",
       "      Product_importance Gender  Discount_offered  Weight_in_gms  \\\n",
       "0                    low      F                44           1233   \n",
       "1                    low      M                59           3088   \n",
       "2                    low      M                48           3374   \n",
       "3                 medium      M                10           1177   \n",
       "4                 medium      F                46           2484   \n",
       "...                  ...    ...               ...            ...   \n",
       "10994             medium      F                 1           1538   \n",
       "10995             medium      F                 6           1247   \n",
       "10996                low      F                 4           1155   \n",
       "10997             medium      M                 2           1210   \n",
       "10998                low      F                 6           1639   \n",
       "\n",
       "      Reached.on.Time_Y.N  \n",
       "0                      no  \n",
       "1                      no  \n",
       "2                      no  \n",
       "3                      no  \n",
       "4                      no  \n",
       "...                   ...  \n",
       "10994                  no  \n",
       "10995                 yes  \n",
       "10996                 yes  \n",
       "10997                 yes  \n",
       "10998                 yes  \n",
       "\n",
       "[10999 rows x 12 columns]"
      ]
     },
     "execution_count": 58,
     "metadata": {},
     "output_type": "execute_result"
    }
   ],
   "source": [
    "retail_c = retail.copy()\n",
    "retail_c['Reached.on.Time_Y.N'] = retail_c['Reached.on.Time_Y.N'].where(retail_c['Reached.on.Time_Y.N'] > 0,'yes')\n",
    "retail_c['Reached.on.Time_Y.N'] = retail_c['Reached.on.Time_Y.N'].where(retail_c['Reached.on.Time_Y.N'] == 'yes','no')\n",
    "retail_c"
   ]
  },
  {
   "attachments": {},
   "cell_type": "markdown",
   "metadata": {},
   "source": [
    "Renaming the column Reached.on.Time_Y.N to Reached_on_time so the column have name that easier to type"
   ]
  },
  {
   "cell_type": "code",
   "execution_count": 59,
   "metadata": {},
   "outputs": [],
   "source": [
    "retail_c = retail_c.rename(columns = {'Reached.on.Time_Y.N':'Reached_on_time'})"
   ]
  },
  {
   "attachments": {},
   "cell_type": "markdown",
   "metadata": {},
   "source": [
    "## Data Analysis"
   ]
  },
  {
   "attachments": {},
   "cell_type": "markdown",
   "metadata": {},
   "source": [
    "We need to take a look the amount of orders served by each Warehouse Block to determine the worst performing Block."
   ]
  },
  {
   "cell_type": "code",
   "execution_count": 60,
   "metadata": {},
   "outputs": [
    {
     "name": "stdout",
     "output_type": "stream",
     "text": [
      "Total of Frequency of Orders per Warehouse Block : \n",
      " Warehouse_block\n",
      "A    1833\n",
      "B    1833\n",
      "C    1833\n",
      "D    1834\n",
      "F    3666\n",
      "dtype: int64\n"
     ]
    },
    {
     "data": {
      "text/plain": [
       "Text(0.5, 1.0, 'Proportions of orders by each Warehouse Block')"
      ]
     },
     "execution_count": 60,
     "metadata": {},
     "output_type": "execute_result"
    },
    {
     "data": {
      "image/png": "[encoded data removed]",
      "text/plain": [
       "<Figure size 640x480 with 1 Axes>"
      ]
     },
     "metadata": {},
     "output_type": "display_data"
    }
   ],
   "source": [
    "labels = retail_c['Warehouse_block'].sort_values().unique()\n",
    "data = retail_c.value_counts(subset = 'Warehouse_block', ascending = True)\n",
    "print('Total of Frequency of Orders per Warehouse Block :','\\n',data)\n",
    "plt.pie(data.to_numpy(), labels = labels, colors = sns.color_palette('viridis'), autopct = '%.0f%%')\n",
    "plt.title('Proportions of orders by each Warehouse Block')"
   ]
  },
  {
   "attachments": {},
   "cell_type": "markdown",
   "metadata": {},
   "source": [
    "The table above shows Warehouse Block F served the 33% of the total orders in the dataset, so Warehouse F have the most potential to have orders which did not arrive on time."
   ]
  },
  {
   "cell_type": "code",
   "execution_count": 61,
   "metadata": {},
   "outputs": [
    {
     "data": {
      "text/plain": [
       "<seaborn.axisgrid.FacetGrid at 0x2504aa24160>"
      ]
     },
     "execution_count": 61,
     "metadata": {},
     "output_type": "execute_result"
    },
    {
     "data": {
      "image/png": "[encoded data removed]",
      "text/plain": [
       "<Figure size 632.236x500 with 1 Axes>"
      ]
     },
     "metadata": {},
     "output_type": "display_data"
    }
   ],
   "source": [
    "sns.displot(\n",
    "    data = retail_c,\n",
    "    x = 'Reached_on_time',\n",
    "    hue = 'Warehouse_block',\n",
    "    palette = 'viridis'\n",
    ")\n"
   ]
  },
  {
   "attachments": {},
   "cell_type": "markdown",
   "metadata": {},
   "source": [
    "From the distribution chart above, the worst performing Warehouse is hard to determine as the color overlaps each other so the data needs to be delved further.\n",
    "\n",
    "The chart shows the proportion between orders reached on time compared to orders late in delivery are skewed into late deliveries, further show in the table below:"
   ]
  },
  {
   "cell_type": "code",
   "execution_count": 62,
   "metadata": {},
   "outputs": [
    {
     "data": {
      "text/html": [
       "<div>\n",
       "<style scoped>\n",
       "    .dataframe tbody tr th:only-of-type {\n",
       "        vertical-align: middle;\n",
       "    }\n",
       "\n",
       "    .dataframe tbody tr th {\n",
       "        vertical-align: top;\n",
       "    }\n",
       "\n",
       "    .dataframe thead th {\n",
       "        text-align: right;\n",
       "    }\n",
       "</style>\n",
       "<table border=\"1\" class=\"dataframe\">\n",
       "  <thead>\n",
       "    <tr style=\"text-align: right;\">\n",
       "      <th></th>\n",
       "      <th>Warehouse_block</th>\n",
       "      <th>Reached_on_time</th>\n",
       "      <th>frequency</th>\n",
       "    </tr>\n",
       "  </thead>\n",
       "  <tbody>\n",
       "    <tr>\n",
       "      <th>0</th>\n",
       "      <td>A</td>\n",
       "      <td>no</td>\n",
       "      <td>1075</td>\n",
       "    </tr>\n",
       "    <tr>\n",
       "      <th>1</th>\n",
       "      <td>A</td>\n",
       "      <td>yes</td>\n",
       "      <td>758</td>\n",
       "    </tr>\n",
       "    <tr>\n",
       "      <th>2</th>\n",
       "      <td>B</td>\n",
       "      <td>no</td>\n",
       "      <td>1104</td>\n",
       "    </tr>\n",
       "    <tr>\n",
       "      <th>3</th>\n",
       "      <td>B</td>\n",
       "      <td>yes</td>\n",
       "      <td>729</td>\n",
       "    </tr>\n",
       "    <tr>\n",
       "      <th>4</th>\n",
       "      <td>C</td>\n",
       "      <td>no</td>\n",
       "      <td>1094</td>\n",
       "    </tr>\n",
       "    <tr>\n",
       "      <th>5</th>\n",
       "      <td>C</td>\n",
       "      <td>yes</td>\n",
       "      <td>739</td>\n",
       "    </tr>\n",
       "    <tr>\n",
       "      <th>6</th>\n",
       "      <td>D</td>\n",
       "      <td>no</td>\n",
       "      <td>1096</td>\n",
       "    </tr>\n",
       "    <tr>\n",
       "      <th>7</th>\n",
       "      <td>D</td>\n",
       "      <td>yes</td>\n",
       "      <td>738</td>\n",
       "    </tr>\n",
       "    <tr>\n",
       "      <th>8</th>\n",
       "      <td>F</td>\n",
       "      <td>no</td>\n",
       "      <td>2194</td>\n",
       "    </tr>\n",
       "    <tr>\n",
       "      <th>9</th>\n",
       "      <td>F</td>\n",
       "      <td>yes</td>\n",
       "      <td>1472</td>\n",
       "    </tr>\n",
       "  </tbody>\n",
       "</table>\n",
       "</div>"
      ],
      "text/plain": [
       "  Warehouse_block Reached_on_time  frequency\n",
       "0               A              no       1075\n",
       "1               A             yes        758\n",
       "2               B              no       1104\n",
       "3               B             yes        729\n",
       "4               C              no       1094\n",
       "5               C             yes        739\n",
       "6               D              no       1096\n",
       "7               D             yes        738\n",
       "8               F              no       2194\n",
       "9               F             yes       1472"
      ]
     },
     "execution_count": 62,
     "metadata": {},
     "output_type": "execute_result"
    }
   ],
   "source": [
    "on_time = retail_c.value_counts(subset = ['Warehouse_block','Reached_on_time'], sort = False).reset_index(name = 'frequency')\n",
    "on_time"
   ]
  },
  {
   "cell_type": "code",
   "execution_count": 63,
   "metadata": {},
   "outputs": [
    {
     "data": {
      "text/plain": [
       "Text(0.5, 1.0, 'Frequency of Delivery Sorted by Warehouse Block')"
      ]
     },
     "execution_count": 63,
     "metadata": {},
     "output_type": "execute_result"
    },
    {
     "data": {
      "image/png": "[encoded data removed]",
      "text/plain": [
       "<Figure size 640x480 with 1 Axes>"
      ]
     },
     "metadata": {},
     "output_type": "display_data"
    }
   ],
   "source": [
    "sns.barplot(\n",
    "    data = on_time,\n",
    "    y = 'frequency',\n",
    "    x = 'Reached_on_time',\n",
    "    hue = 'Warehouse_block',\n",
    "    palette = 'viridis'\n",
    ")\n",
    "plt.title('Frequency of Delivery Sorted by Warehouse Block')\n"
   ]
  },
  {
   "attachments": {},
   "cell_type": "markdown",
   "metadata": {},
   "source": [
    "The barchart above shows that Warehouse Block F served the most order compared to other warehouses, but the most underperforming warehouse cannot be discerned from the chart so in further data exploration is required."
   ]
  },
  {
   "cell_type": "code",
   "execution_count": 64,
   "metadata": {},
   "outputs": [
    {
     "data": {
      "text/html": [
       "<div>\n",
       "<style scoped>\n",
       "    .dataframe tbody tr th:only-of-type {\n",
       "        vertical-align: middle;\n",
       "    }\n",
       "\n",
       "    .dataframe tbody tr th {\n",
       "        vertical-align: top;\n",
       "    }\n",
       "\n",
       "    .dataframe thead th {\n",
       "        text-align: right;\n",
       "    }\n",
       "</style>\n",
       "<table border=\"1\" class=\"dataframe\">\n",
       "  <thead>\n",
       "    <tr style=\"text-align: right;\">\n",
       "      <th></th>\n",
       "      <th>Warehouse_block</th>\n",
       "      <th>Reached_on_time</th>\n",
       "      <th>frequency</th>\n",
       "    </tr>\n",
       "  </thead>\n",
       "  <tbody>\n",
       "    <tr>\n",
       "      <th>0</th>\n",
       "      <td>A</td>\n",
       "      <td>no</td>\n",
       "      <td>1075</td>\n",
       "    </tr>\n",
       "    <tr>\n",
       "      <th>1</th>\n",
       "      <td>B</td>\n",
       "      <td>no</td>\n",
       "      <td>1104</td>\n",
       "    </tr>\n",
       "    <tr>\n",
       "      <th>2</th>\n",
       "      <td>C</td>\n",
       "      <td>no</td>\n",
       "      <td>1094</td>\n",
       "    </tr>\n",
       "    <tr>\n",
       "      <th>3</th>\n",
       "      <td>D</td>\n",
       "      <td>no</td>\n",
       "      <td>1096</td>\n",
       "    </tr>\n",
       "    <tr>\n",
       "      <th>4</th>\n",
       "      <td>F</td>\n",
       "      <td>no</td>\n",
       "      <td>2194</td>\n",
       "    </tr>\n",
       "  </tbody>\n",
       "</table>\n",
       "</div>"
      ],
      "text/plain": [
       "  Warehouse_block Reached_on_time  frequency\n",
       "0               A              no       1075\n",
       "1               B              no       1104\n",
       "2               C              no       1094\n",
       "3               D              no       1096\n",
       "4               F              no       2194"
      ]
     },
     "execution_count": 64,
     "metadata": {},
     "output_type": "execute_result"
    }
   ],
   "source": [
    "no = on_time[on_time['Reached_on_time'] == 'no'].reset_index(drop = True)\n",
    "no"
   ]
  },
  {
   "cell_type": "code",
   "execution_count": 65,
   "metadata": {},
   "outputs": [
    {
     "data": {
      "text/html": [
       "<div>\n",
       "<style scoped>\n",
       "    .dataframe tbody tr th:only-of-type {\n",
       "        vertical-align: middle;\n",
       "    }\n",
       "\n",
       "    .dataframe tbody tr th {\n",
       "        vertical-align: top;\n",
       "    }\n",
       "\n",
       "    .dataframe thead th {\n",
       "        text-align: right;\n",
       "    }\n",
       "</style>\n",
       "<table border=\"1\" class=\"dataframe\">\n",
       "  <thead>\n",
       "    <tr style=\"text-align: right;\">\n",
       "      <th></th>\n",
       "      <th>Warehouse_block</th>\n",
       "      <th>Reached_on_time</th>\n",
       "      <th>frequency</th>\n",
       "    </tr>\n",
       "  </thead>\n",
       "  <tbody>\n",
       "    <tr>\n",
       "      <th>0</th>\n",
       "      <td>A</td>\n",
       "      <td>yes</td>\n",
       "      <td>758</td>\n",
       "    </tr>\n",
       "    <tr>\n",
       "      <th>1</th>\n",
       "      <td>B</td>\n",
       "      <td>yes</td>\n",
       "      <td>729</td>\n",
       "    </tr>\n",
       "    <tr>\n",
       "      <th>2</th>\n",
       "      <td>C</td>\n",
       "      <td>yes</td>\n",
       "      <td>739</td>\n",
       "    </tr>\n",
       "    <tr>\n",
       "      <th>3</th>\n",
       "      <td>D</td>\n",
       "      <td>yes</td>\n",
       "      <td>738</td>\n",
       "    </tr>\n",
       "    <tr>\n",
       "      <th>4</th>\n",
       "      <td>F</td>\n",
       "      <td>yes</td>\n",
       "      <td>1472</td>\n",
       "    </tr>\n",
       "  </tbody>\n",
       "</table>\n",
       "</div>"
      ],
      "text/plain": [
       "  Warehouse_block Reached_on_time  frequency\n",
       "0               A             yes        758\n",
       "1               B             yes        729\n",
       "2               C             yes        739\n",
       "3               D             yes        738\n",
       "4               F             yes       1472"
      ]
     },
     "execution_count": 65,
     "metadata": {},
     "output_type": "execute_result"
    }
   ],
   "source": [
    "yes = on_time[on_time['Reached_on_time'] == 'yes'].reset_index(drop = True)\n",
    "yes"
   ]
  },
  {
   "attachments": {},
   "cell_type": "markdown",
   "metadata": {},
   "source": [
    "Splitting the frequency of on time deliveries and late deliveries into 2 tables show the majority of orders did not arrive on time.\n",
    "<br>The ratio of each frequency sorted per Warehouse Block might give some insights."
   ]
  },
  {
   "cell_type": "code",
   "execution_count": 66,
   "metadata": {},
   "outputs": [
    {
     "data": {
      "text/html": [
       "<div>\n",
       "<style scoped>\n",
       "    .dataframe tbody tr th:only-of-type {\n",
       "        vertical-align: middle;\n",
       "    }\n",
       "\n",
       "    .dataframe tbody tr th {\n",
       "        vertical-align: top;\n",
       "    }\n",
       "\n",
       "    .dataframe thead th {\n",
       "        text-align: right;\n",
       "    }\n",
       "</style>\n",
       "<table border=\"1\" class=\"dataframe\">\n",
       "  <thead>\n",
       "    <tr style=\"text-align: right;\">\n",
       "      <th></th>\n",
       "      <th>Warehouse_block</th>\n",
       "      <th>freq_of_on_time_delivery</th>\n",
       "      <th>freq_of_late_delivery</th>\n",
       "    </tr>\n",
       "  </thead>\n",
       "  <tbody>\n",
       "    <tr>\n",
       "      <th>0</th>\n",
       "      <td>A</td>\n",
       "      <td>758</td>\n",
       "      <td>1075</td>\n",
       "    </tr>\n",
       "    <tr>\n",
       "      <th>1</th>\n",
       "      <td>B</td>\n",
       "      <td>729</td>\n",
       "      <td>1104</td>\n",
       "    </tr>\n",
       "    <tr>\n",
       "      <th>2</th>\n",
       "      <td>C</td>\n",
       "      <td>739</td>\n",
       "      <td>1094</td>\n",
       "    </tr>\n",
       "    <tr>\n",
       "      <th>3</th>\n",
       "      <td>D</td>\n",
       "      <td>738</td>\n",
       "      <td>1096</td>\n",
       "    </tr>\n",
       "    <tr>\n",
       "      <th>4</th>\n",
       "      <td>F</td>\n",
       "      <td>1472</td>\n",
       "      <td>2194</td>\n",
       "    </tr>\n",
       "  </tbody>\n",
       "</table>\n",
       "</div>"
      ],
      "text/plain": [
       "  Warehouse_block  freq_of_on_time_delivery  freq_of_late_delivery\n",
       "0               A                       758                   1075\n",
       "1               B                       729                   1104\n",
       "2               C                       739                   1094\n",
       "3               D                       738                   1096\n",
       "4               F                      1472                   2194"
      ]
     },
     "execution_count": 66,
     "metadata": {},
     "output_type": "execute_result"
    }
   ],
   "source": [
    "ratio = yes.drop('Reached_on_time', axis = 1).copy()\n",
    "ratio = ratio.rename(columns = {'frequency':'freq_of_on_time_delivery'})\n",
    "ratio['freq_of_late_delivery'] = no['frequency'].copy()\n",
    "ratio"
   ]
  },
  {
   "cell_type": "code",
   "execution_count": 67,
   "metadata": {},
   "outputs": [
    {
     "data": {
      "text/html": [
       "<div>\n",
       "<style scoped>\n",
       "    .dataframe tbody tr th:only-of-type {\n",
       "        vertical-align: middle;\n",
       "    }\n",
       "\n",
       "    .dataframe tbody tr th {\n",
       "        vertical-align: top;\n",
       "    }\n",
       "\n",
       "    .dataframe thead th {\n",
       "        text-align: right;\n",
       "    }\n",
       "</style>\n",
       "<table border=\"1\" class=\"dataframe\">\n",
       "  <thead>\n",
       "    <tr style=\"text-align: right;\">\n",
       "      <th></th>\n",
       "      <th>Warehouse_block</th>\n",
       "      <th>freq_of_on_time_delivery</th>\n",
       "      <th>freq_of_late_delivery</th>\n",
       "      <th>ratio_of_on_time_delivery</th>\n",
       "      <th>ratio_of_late_delivery</th>\n",
       "    </tr>\n",
       "  </thead>\n",
       "  <tbody>\n",
       "    <tr>\n",
       "      <th>0</th>\n",
       "      <td>A</td>\n",
       "      <td>758</td>\n",
       "      <td>1075</td>\n",
       "      <td>41.352973</td>\n",
       "      <td>58.647027</td>\n",
       "    </tr>\n",
       "    <tr>\n",
       "      <th>1</th>\n",
       "      <td>B</td>\n",
       "      <td>729</td>\n",
       "      <td>1104</td>\n",
       "      <td>39.770867</td>\n",
       "      <td>60.229133</td>\n",
       "    </tr>\n",
       "    <tr>\n",
       "      <th>2</th>\n",
       "      <td>C</td>\n",
       "      <td>739</td>\n",
       "      <td>1094</td>\n",
       "      <td>40.316421</td>\n",
       "      <td>59.683579</td>\n",
       "    </tr>\n",
       "    <tr>\n",
       "      <th>3</th>\n",
       "      <td>D</td>\n",
       "      <td>738</td>\n",
       "      <td>1096</td>\n",
       "      <td>40.239913</td>\n",
       "      <td>59.760087</td>\n",
       "    </tr>\n",
       "    <tr>\n",
       "      <th>4</th>\n",
       "      <td>F</td>\n",
       "      <td>1472</td>\n",
       "      <td>2194</td>\n",
       "      <td>40.152755</td>\n",
       "      <td>59.847245</td>\n",
       "    </tr>\n",
       "  </tbody>\n",
       "</table>\n",
       "</div>"
      ],
      "text/plain": [
       "  Warehouse_block  freq_of_on_time_delivery  freq_of_late_delivery  \\\n",
       "0               A                       758                   1075   \n",
       "1               B                       729                   1104   \n",
       "2               C                       739                   1094   \n",
       "3               D                       738                   1096   \n",
       "4               F                      1472                   2194   \n",
       "\n",
       "   ratio_of_on_time_delivery  ratio_of_late_delivery  \n",
       "0                  41.352973               58.647027  \n",
       "1                  39.770867               60.229133  \n",
       "2                  40.316421               59.683579  \n",
       "3                  40.239913               59.760087  \n",
       "4                  40.152755               59.847245  "
      ]
     },
     "execution_count": 67,
     "metadata": {},
     "output_type": "execute_result"
    }
   ],
   "source": [
    "ratio['ratio_of_on_time_delivery'] = (ratio['freq_of_on_time_delivery'] / (ratio['freq_of_on_time_delivery'] + ratio['freq_of_late_delivery']))*100\n",
    "ratio['ratio_of_late_delivery'] = 100 - ratio['ratio_of_on_time_delivery']\n",
    "ratio\n"
   ]
  },
  {
   "attachments": {},
   "cell_type": "markdown",
   "metadata": {},
   "source": [
    "The ratio calculation shows that all of the Warehouse Block are performing badly, majority of the orders are received late. The worst performing are Warehouse Block B with 60.23% of orders delivered late abeit the differences of ratio of other Warehouses quite slim.\n",
    "\n",
    "The best performing Warehouse Block is Block A with 41.35% of the order delivered on time.\n",
    "\n",
    "Let's investigate further which shipping method caused the orders to delivered late."
   ]
  },
  {
   "attachments": {},
   "cell_type": "markdown",
   "metadata": {},
   "source": [
    "#### Distribution of missed delivery duration per Shipment Mode"
   ]
  },
  {
   "cell_type": "code",
   "execution_count": 68,
   "metadata": {},
   "outputs": [
    {
     "data": {
      "text/plain": [
       "Text(0.5, 1.0, 'Mode of Shipment per On Time Delivery Status')"
      ]
     },
     "execution_count": 68,
     "metadata": {},
     "output_type": "execute_result"
    },
    {
     "data": {
      "image/png": "[encoded data removed]",
      "text/plain": [
       "<Figure size 633.736x500 with 1 Axes>"
      ]
     },
     "metadata": {},
     "output_type": "display_data"
    }
   ],
   "source": [
    "sns.displot(\n",
    "    data = retail_c,\n",
    "    x = 'Mode_of_Shipment',\n",
    "    hue = 'Reached_on_time',\n",
    "    palette = 'viridis'\n",
    ")\n",
    "plt.title('Mode of Shipment per On Time Delivery Status')"
   ]
  },
  {
   "attachments": {},
   "cell_type": "markdown",
   "metadata": {},
   "source": [
    "#### Distribution of Shipment Mode with Delivery Status"
   ]
  },
  {
   "cell_type": "code",
   "execution_count": 69,
   "metadata": {},
   "outputs": [
    {
     "data": {
      "text/plain": [
       "Text(0.5, 1.0, 'Mode Of Shipment per Product Importance')"
      ]
     },
     "execution_count": 69,
     "metadata": {},
     "output_type": "execute_result"
    },
    {
     "data": {
      "image/png": "[encoded data removed]",
      "text/plain": [
       "<Figure size 650.611x500 with 1 Axes>"
      ]
     },
     "metadata": {},
     "output_type": "display_data"
    }
   ],
   "source": [
    "sns.displot(\n",
    "    data = retail_c,\n",
    "    x = 'Mode_of_Shipment',\n",
    "    hue = 'Product_importance',\n",
    "    palette = 'viridis'\n",
    ")\n",
    "plt.title('Mode Of Shipment per Product Importance')"
   ]
  },
  {
   "cell_type": "code",
   "execution_count": 70,
   "metadata": {},
   "outputs": [
    {
     "data": {
      "text/html": [
       "<div>\n",
       "<style scoped>\n",
       "    .dataframe tbody tr th:only-of-type {\n",
       "        vertical-align: middle;\n",
       "    }\n",
       "\n",
       "    .dataframe tbody tr th {\n",
       "        vertical-align: top;\n",
       "    }\n",
       "\n",
       "    .dataframe thead th {\n",
       "        text-align: right;\n",
       "    }\n",
       "</style>\n",
       "<table border=\"1\" class=\"dataframe\">\n",
       "  <thead>\n",
       "    <tr style=\"text-align: right;\">\n",
       "      <th></th>\n",
       "      <th>ID</th>\n",
       "      <th>Warehouse_block</th>\n",
       "      <th>Mode_of_Shipment</th>\n",
       "      <th>Reached_on_time</th>\n",
       "    </tr>\n",
       "  </thead>\n",
       "  <tbody>\n",
       "    <tr>\n",
       "      <th>3</th>\n",
       "      <td>4</td>\n",
       "      <td>B</td>\n",
       "      <td>Flight</td>\n",
       "      <td>no</td>\n",
       "    </tr>\n",
       "    <tr>\n",
       "      <th>9</th>\n",
       "      <td>10</td>\n",
       "      <td>B</td>\n",
       "      <td>Flight</td>\n",
       "      <td>no</td>\n",
       "    </tr>\n",
       "    <tr>\n",
       "      <th>15</th>\n",
       "      <td>16</td>\n",
       "      <td>B</td>\n",
       "      <td>Flight</td>\n",
       "      <td>no</td>\n",
       "    </tr>\n",
       "    <tr>\n",
       "      <th>21</th>\n",
       "      <td>22</td>\n",
       "      <td>B</td>\n",
       "      <td>Ship</td>\n",
       "      <td>no</td>\n",
       "    </tr>\n",
       "    <tr>\n",
       "      <th>27</th>\n",
       "      <td>28</td>\n",
       "      <td>B</td>\n",
       "      <td>Ship</td>\n",
       "      <td>no</td>\n",
       "    </tr>\n",
       "    <tr>\n",
       "      <th>...</th>\n",
       "      <td>...</td>\n",
       "      <td>...</td>\n",
       "      <td>...</td>\n",
       "      <td>...</td>\n",
       "    </tr>\n",
       "    <tr>\n",
       "      <th>10971</th>\n",
       "      <td>10972</td>\n",
       "      <td>B</td>\n",
       "      <td>Flight</td>\n",
       "      <td>yes</td>\n",
       "    </tr>\n",
       "    <tr>\n",
       "      <th>10977</th>\n",
       "      <td>10978</td>\n",
       "      <td>B</td>\n",
       "      <td>Ship</td>\n",
       "      <td>yes</td>\n",
       "    </tr>\n",
       "    <tr>\n",
       "      <th>10983</th>\n",
       "      <td>10984</td>\n",
       "      <td>B</td>\n",
       "      <td>Ship</td>\n",
       "      <td>no</td>\n",
       "    </tr>\n",
       "    <tr>\n",
       "      <th>10989</th>\n",
       "      <td>10990</td>\n",
       "      <td>B</td>\n",
       "      <td>Ship</td>\n",
       "      <td>yes</td>\n",
       "    </tr>\n",
       "    <tr>\n",
       "      <th>10995</th>\n",
       "      <td>10996</td>\n",
       "      <td>B</td>\n",
       "      <td>Ship</td>\n",
       "      <td>yes</td>\n",
       "    </tr>\n",
       "  </tbody>\n",
       "</table>\n",
       "<p>1833 rows × 4 columns</p>\n",
       "</div>"
      ],
      "text/plain": [
       "          ID Warehouse_block Mode_of_Shipment Reached_on_time\n",
       "3          4               B           Flight              no\n",
       "9         10               B           Flight              no\n",
       "15        16               B           Flight              no\n",
       "21        22               B             Ship              no\n",
       "27        28               B             Ship              no\n",
       "...      ...             ...              ...             ...\n",
       "10971  10972               B           Flight             yes\n",
       "10977  10978               B             Ship             yes\n",
       "10983  10984               B             Ship              no\n",
       "10989  10990               B             Ship             yes\n",
       "10995  10996               B             Ship             yes\n",
       "\n",
       "[1833 rows x 4 columns]"
      ]
     },
     "execution_count": 70,
     "metadata": {},
     "output_type": "execute_result"
    }
   ],
   "source": [
    "warb = retail_c[retail_c['Warehouse_block'] == 'B'].copy()\n",
    "warb = warb.drop(columns = {'Customer_care_calls','Customer_rating','Cost_of_the_Product','Product_importance','Prior_purchases','Gender','Discount_offered','Weight_in_gms'})\n",
    "warb"
   ]
  },
  {
   "cell_type": "code",
   "execution_count": 71,
   "metadata": {},
   "outputs": [
    {
     "data": {
      "text/plain": [
       "Text(0.5, 1.0, 'Distribution Chart of Shipment Mode in Warehouse B')"
      ]
     },
     "execution_count": 71,
     "metadata": {},
     "output_type": "execute_result"
    },
    {
     "data": {
      "image/png": "[encoded data removed]",
      "text/plain": [
       "<Figure size 633.736x500 with 1 Axes>"
      ]
     },
     "metadata": {},
     "output_type": "display_data"
    }
   ],
   "source": [
    "sns.displot(\n",
    "    data = warb,\n",
    "    x = 'Mode_of_Shipment',\n",
    "    hue = 'Reached_on_time',\n",
    "    palette = 'viridis'\n",
    ")\n",
    "plt.title('Distribution Chart of Shipment Mode in Warehouse B')"
   ]
  },
  {
   "attachments": {},
   "cell_type": "markdown",
   "metadata": {},
   "source": [
    "The distribution chart shows the most used shipment method is by sea/ship"
   ]
  },
  {
   "cell_type": "code",
   "execution_count": 72,
   "metadata": {},
   "outputs": [
    {
     "data": {
      "text/html": [
       "<div>\n",
       "<style scoped>\n",
       "    .dataframe tbody tr th:only-of-type {\n",
       "        vertical-align: middle;\n",
       "    }\n",
       "\n",
       "    .dataframe tbody tr th {\n",
       "        vertical-align: top;\n",
       "    }\n",
       "\n",
       "    .dataframe thead th {\n",
       "        text-align: right;\n",
       "    }\n",
       "</style>\n",
       "<table border=\"1\" class=\"dataframe\">\n",
       "  <thead>\n",
       "    <tr style=\"text-align: right;\">\n",
       "      <th></th>\n",
       "      <th>Warehouse_block</th>\n",
       "      <th>Reached_on_time</th>\n",
       "      <th>Mode_of_Shipment</th>\n",
       "      <th>frequency</th>\n",
       "    </tr>\n",
       "  </thead>\n",
       "  <tbody>\n",
       "    <tr>\n",
       "      <th>0</th>\n",
       "      <td>B</td>\n",
       "      <td>no</td>\n",
       "      <td>Flight</td>\n",
       "      <td>177</td>\n",
       "    </tr>\n",
       "    <tr>\n",
       "      <th>1</th>\n",
       "      <td>B</td>\n",
       "      <td>no</td>\n",
       "      <td>Road</td>\n",
       "      <td>172</td>\n",
       "    </tr>\n",
       "    <tr>\n",
       "      <th>2</th>\n",
       "      <td>B</td>\n",
       "      <td>no</td>\n",
       "      <td>Ship</td>\n",
       "      <td>755</td>\n",
       "    </tr>\n",
       "    <tr>\n",
       "      <th>3</th>\n",
       "      <td>B</td>\n",
       "      <td>yes</td>\n",
       "      <td>Flight</td>\n",
       "      <td>119</td>\n",
       "    </tr>\n",
       "    <tr>\n",
       "      <th>4</th>\n",
       "      <td>B</td>\n",
       "      <td>yes</td>\n",
       "      <td>Road</td>\n",
       "      <td>122</td>\n",
       "    </tr>\n",
       "    <tr>\n",
       "      <th>5</th>\n",
       "      <td>B</td>\n",
       "      <td>yes</td>\n",
       "      <td>Ship</td>\n",
       "      <td>488</td>\n",
       "    </tr>\n",
       "  </tbody>\n",
       "</table>\n",
       "</div>"
      ],
      "text/plain": [
       "  Warehouse_block Reached_on_time Mode_of_Shipment  frequency\n",
       "0               B              no           Flight        177\n",
       "1               B              no             Road        172\n",
       "2               B              no             Ship        755\n",
       "3               B             yes           Flight        119\n",
       "4               B             yes             Road        122\n",
       "5               B             yes             Ship        488"
      ]
     },
     "execution_count": 72,
     "metadata": {},
     "output_type": "execute_result"
    }
   ],
   "source": [
    "shipB = warb.value_counts(subset = ['Warehouse_block','Reached_on_time','Mode_of_Shipment'], sort = False).reset_index(name = 'frequency')\n",
    "shipB"
   ]
  },
  {
   "cell_type": "code",
   "execution_count": 73,
   "metadata": {},
   "outputs": [
    {
     "data": {
      "text/html": [
       "<div>\n",
       "<style scoped>\n",
       "    .dataframe tbody tr th:only-of-type {\n",
       "        vertical-align: middle;\n",
       "    }\n",
       "\n",
       "    .dataframe tbody tr th {\n",
       "        vertical-align: top;\n",
       "    }\n",
       "\n",
       "    .dataframe thead th {\n",
       "        text-align: right;\n",
       "    }\n",
       "</style>\n",
       "<table border=\"1\" class=\"dataframe\">\n",
       "  <thead>\n",
       "    <tr style=\"text-align: right;\">\n",
       "      <th></th>\n",
       "      <th>Warehouse_block</th>\n",
       "      <th>Mode_of_Shipment</th>\n",
       "      <th>freq_on_time</th>\n",
       "    </tr>\n",
       "  </thead>\n",
       "  <tbody>\n",
       "    <tr>\n",
       "      <th>0</th>\n",
       "      <td>B</td>\n",
       "      <td>Flight</td>\n",
       "      <td>119</td>\n",
       "    </tr>\n",
       "    <tr>\n",
       "      <th>1</th>\n",
       "      <td>B</td>\n",
       "      <td>Road</td>\n",
       "      <td>122</td>\n",
       "    </tr>\n",
       "    <tr>\n",
       "      <th>2</th>\n",
       "      <td>B</td>\n",
       "      <td>Ship</td>\n",
       "      <td>488</td>\n",
       "    </tr>\n",
       "  </tbody>\n",
       "</table>\n",
       "</div>"
      ],
      "text/plain": [
       "  Warehouse_block Mode_of_Shipment  freq_on_time\n",
       "0               B           Flight           119\n",
       "1               B             Road           122\n",
       "2               B             Ship           488"
      ]
     },
     "execution_count": 73,
     "metadata": {},
     "output_type": "execute_result"
    }
   ],
   "source": [
    "shipB2 = shipB[shipB['Reached_on_time'] == 'yes'].drop(columns = 'Reached_on_time').rename(columns = {'frequency':'freq_on_time'}).reset_index(drop = True)\n",
    "shipB2"
   ]
  },
  {
   "cell_type": "code",
   "execution_count": 74,
   "metadata": {},
   "outputs": [
    {
     "data": {
      "text/html": [
       "<div>\n",
       "<style scoped>\n",
       "    .dataframe tbody tr th:only-of-type {\n",
       "        vertical-align: middle;\n",
       "    }\n",
       "\n",
       "    .dataframe tbody tr th {\n",
       "        vertical-align: top;\n",
       "    }\n",
       "\n",
       "    .dataframe thead th {\n",
       "        text-align: right;\n",
       "    }\n",
       "</style>\n",
       "<table border=\"1\" class=\"dataframe\">\n",
       "  <thead>\n",
       "    <tr style=\"text-align: right;\">\n",
       "      <th></th>\n",
       "      <th>Warehouse_block</th>\n",
       "      <th>Mode_of_Shipment</th>\n",
       "      <th>freq_late</th>\n",
       "    </tr>\n",
       "  </thead>\n",
       "  <tbody>\n",
       "    <tr>\n",
       "      <th>0</th>\n",
       "      <td>B</td>\n",
       "      <td>Flight</td>\n",
       "      <td>177</td>\n",
       "    </tr>\n",
       "    <tr>\n",
       "      <th>1</th>\n",
       "      <td>B</td>\n",
       "      <td>Road</td>\n",
       "      <td>172</td>\n",
       "    </tr>\n",
       "    <tr>\n",
       "      <th>2</th>\n",
       "      <td>B</td>\n",
       "      <td>Ship</td>\n",
       "      <td>755</td>\n",
       "    </tr>\n",
       "  </tbody>\n",
       "</table>\n",
       "</div>"
      ],
      "text/plain": [
       "  Warehouse_block Mode_of_Shipment  freq_late\n",
       "0               B           Flight        177\n",
       "1               B             Road        172\n",
       "2               B             Ship        755"
      ]
     },
     "execution_count": 74,
     "metadata": {},
     "output_type": "execute_result"
    }
   ],
   "source": [
    "shipB3 = shipB[shipB['Reached_on_time'] == 'no'].drop(columns = 'Reached_on_time').rename(columns = {'frequency':'freq_late'}).reset_index(drop = True)\n",
    "shipB3"
   ]
  },
  {
   "cell_type": "code",
   "execution_count": 75,
   "metadata": {},
   "outputs": [
    {
     "data": {
      "text/html": [
       "<div>\n",
       "<style scoped>\n",
       "    .dataframe tbody tr th:only-of-type {\n",
       "        vertical-align: middle;\n",
       "    }\n",
       "\n",
       "    .dataframe tbody tr th {\n",
       "        vertical-align: top;\n",
       "    }\n",
       "\n",
       "    .dataframe thead th {\n",
       "        text-align: right;\n",
       "    }\n",
       "</style>\n",
       "<table border=\"1\" class=\"dataframe\">\n",
       "  <thead>\n",
       "    <tr style=\"text-align: right;\">\n",
       "      <th></th>\n",
       "      <th>Warehouse_block</th>\n",
       "      <th>Mode_of_Shipment</th>\n",
       "      <th>freq_on_time</th>\n",
       "      <th>freq_late</th>\n",
       "      <th>ratio_of_on_time</th>\n",
       "      <th>ratio_of_late</th>\n",
       "    </tr>\n",
       "  </thead>\n",
       "  <tbody>\n",
       "    <tr>\n",
       "      <th>0</th>\n",
       "      <td>B</td>\n",
       "      <td>Flight</td>\n",
       "      <td>119</td>\n",
       "      <td>177</td>\n",
       "      <td>40.202703</td>\n",
       "      <td>59.797297</td>\n",
       "    </tr>\n",
       "    <tr>\n",
       "      <th>1</th>\n",
       "      <td>B</td>\n",
       "      <td>Road</td>\n",
       "      <td>122</td>\n",
       "      <td>172</td>\n",
       "      <td>41.496599</td>\n",
       "      <td>58.503401</td>\n",
       "    </tr>\n",
       "    <tr>\n",
       "      <th>2</th>\n",
       "      <td>B</td>\n",
       "      <td>Ship</td>\n",
       "      <td>488</td>\n",
       "      <td>755</td>\n",
       "      <td>39.259855</td>\n",
       "      <td>60.740145</td>\n",
       "    </tr>\n",
       "  </tbody>\n",
       "</table>\n",
       "</div>"
      ],
      "text/plain": [
       "  Warehouse_block Mode_of_Shipment  freq_on_time  freq_late  ratio_of_on_time  \\\n",
       "0               B           Flight           119        177         40.202703   \n",
       "1               B             Road           122        172         41.496599   \n",
       "2               B             Ship           488        755         39.259855   \n",
       "\n",
       "   ratio_of_late  \n",
       "0      59.797297  \n",
       "1      58.503401  \n",
       "2      60.740145  "
      ]
     },
     "execution_count": 75,
     "metadata": {},
     "output_type": "execute_result"
    }
   ],
   "source": [
    "shipfinal = shipB2.copy()\n",
    "shipfinal['freq_late'] = shipB3['freq_late'].copy()\n",
    "shipfinal['ratio_of_on_time'] = shipfinal['freq_on_time'] * 100 / (shipfinal['freq_on_time'] + shipfinal['freq_late'])\n",
    "shipfinal['ratio_of_late'] = 100 - shipfinal['ratio_of_on_time']\n",
    "shipfinal\n"
   ]
  },
  {
   "attachments": {},
   "cell_type": "markdown",
   "metadata": {},
   "source": [
    "Most of the late deliveries happened with sea shipment method, compared to flight or land shipment. \n",
    "\n",
    "The data also shows the best performing method is land shipment (road) compared to other two methods.\n",
    "\n",
    "Similar with comparison of late deliveries with Warehouse blocks, the margins between each method is quite small."
   ]
  },
  {
   "cell_type": "code",
   "execution_count": 76,
   "metadata": {},
   "outputs": [
    {
     "data": {
      "text/html": [
       "<div>\n",
       "<style scoped>\n",
       "    .dataframe tbody tr th:only-of-type {\n",
       "        vertical-align: middle;\n",
       "    }\n",
       "\n",
       "    .dataframe tbody tr th {\n",
       "        vertical-align: top;\n",
       "    }\n",
       "\n",
       "    .dataframe thead th {\n",
       "        text-align: right;\n",
       "    }\n",
       "</style>\n",
       "<table border=\"1\" class=\"dataframe\">\n",
       "  <thead>\n",
       "    <tr style=\"text-align: right;\">\n",
       "      <th></th>\n",
       "      <th>Warehouse_block</th>\n",
       "      <th>Mode_of_Shipment</th>\n",
       "      <th>freq_on_time</th>\n",
       "      <th>freq_late</th>\n",
       "      <th>ratio_of_on_time</th>\n",
       "      <th>ratio_of_late</th>\n",
       "    </tr>\n",
       "  </thead>\n",
       "  <tbody>\n",
       "    <tr>\n",
       "      <th>0</th>\n",
       "      <td>A</td>\n",
       "      <td>Flight</td>\n",
       "      <td>123</td>\n",
       "      <td>174</td>\n",
       "      <td>41.414141</td>\n",
       "      <td>58.585859</td>\n",
       "    </tr>\n",
       "    <tr>\n",
       "      <th>1</th>\n",
       "      <td>A</td>\n",
       "      <td>Road</td>\n",
       "      <td>126</td>\n",
       "      <td>168</td>\n",
       "      <td>42.857143</td>\n",
       "      <td>57.142857</td>\n",
       "    </tr>\n",
       "    <tr>\n",
       "      <th>2</th>\n",
       "      <td>A</td>\n",
       "      <td>Ship</td>\n",
       "      <td>509</td>\n",
       "      <td>733</td>\n",
       "      <td>40.982287</td>\n",
       "      <td>59.017713</td>\n",
       "    </tr>\n",
       "  </tbody>\n",
       "</table>\n",
       "</div>"
      ],
      "text/plain": [
       "  Warehouse_block Mode_of_Shipment  freq_on_time  freq_late  ratio_of_on_time  \\\n",
       "0               A           Flight           123        174         41.414141   \n",
       "1               A             Road           126        168         42.857143   \n",
       "2               A             Ship           509        733         40.982287   \n",
       "\n",
       "   ratio_of_late  \n",
       "0      58.585859  \n",
       "1      57.142857  \n",
       "2      59.017713  "
      ]
     },
     "execution_count": 76,
     "metadata": {},
     "output_type": "execute_result"
    }
   ],
   "source": [
    "wara = retail_c[retail_c['Warehouse_block'] == 'A'].copy()\n",
    "wara = wara.drop(columns = {'Customer_care_calls','Customer_rating','Cost_of_the_Product','Product_importance','Prior_purchases','Gender','Discount_offered','Weight_in_gms'})\n",
    "shipA = wara.value_counts(subset = ['Warehouse_block','Reached_on_time','Mode_of_Shipment'], sort = False).reset_index(name = 'frequency')\n",
    "shipA2 = shipA[shipA['Reached_on_time'] == 'yes'].drop(columns = 'Reached_on_time').rename(columns = {'frequency':'freq_on_time'}).reset_index(drop = True)\n",
    "shipA3 = shipA[shipA['Reached_on_time'] == 'no'].drop(columns = 'Reached_on_time').rename(columns = {'frequency':'freq_late'}).reset_index(drop = True)\n",
    "shipfinal = shipA2.copy()\n",
    "shipfinal['freq_late'] = shipA3['freq_late'].copy()\n",
    "shipfinal['ratio_of_on_time'] = shipfinal['freq_on_time'] * 100 / (shipfinal['freq_on_time'] + shipfinal['freq_late'])\n",
    "shipfinal['ratio_of_late'] = 100 - shipfinal['ratio_of_on_time']\n",
    "shipfinal\n"
   ]
  },
  {
   "attachments": {},
   "cell_type": "markdown",
   "metadata": {},
   "source": [
    "Checking the deliveries made by Warehouse Block A, as Block A is the best performing Block also shows the similar results.\n",
    "\n",
    "The worst performing delivery method is by ship and the best is land delivery."
   ]
  },
  {
   "attachments": {},
   "cell_type": "markdown",
   "metadata": {},
   "source": [
    "### Checking the Relationship of Product_importance with Delivery Status"
   ]
  },
  {
   "attachments": {},
   "cell_type": "markdown",
   "metadata": {},
   "source": [
    "Product_importance and Delivery status are both categorical data so chi-square test should be used to examine the relationship for both variables.\n",
    "\n",
    "The first step is to aggregate the frequency into a DataFrame with counts of both on time and late delivery compared with each of level of Product_importance.\n",
    "\n",
    "Hypothesis for the chi-square test are:\n",
    "    <ul>\n",
    "    <li>H0: Product importance on each product are not related or have influence on time delivery status</li>\n",
    "    <li>H1: Product importance on each product related or have influence on time delivery status</li>\n",
    "    </ul>"
   ]
  },
  {
   "cell_type": "code",
   "execution_count": 77,
   "metadata": {},
   "outputs": [
    {
     "data": {
      "text/html": [
       "<div>\n",
       "<style scoped>\n",
       "    .dataframe tbody tr th:only-of-type {\n",
       "        vertical-align: middle;\n",
       "    }\n",
       "\n",
       "    .dataframe tbody tr th {\n",
       "        vertical-align: top;\n",
       "    }\n",
       "\n",
       "    .dataframe thead th {\n",
       "        text-align: right;\n",
       "    }\n",
       "</style>\n",
       "<table border=\"1\" class=\"dataframe\">\n",
       "  <thead>\n",
       "    <tr style=\"text-align: right;\">\n",
       "      <th>Product_importance</th>\n",
       "      <th>high</th>\n",
       "      <th>low</th>\n",
       "      <th>medium</th>\n",
       "    </tr>\n",
       "    <tr>\n",
       "      <th>Reached_on_time</th>\n",
       "      <th></th>\n",
       "      <th></th>\n",
       "      <th></th>\n",
       "    </tr>\n",
       "  </thead>\n",
       "  <tbody>\n",
       "    <tr>\n",
       "      <th>no</th>\n",
       "      <td>616</td>\n",
       "      <td>3140</td>\n",
       "      <td>2807</td>\n",
       "    </tr>\n",
       "    <tr>\n",
       "      <th>yes</th>\n",
       "      <td>332</td>\n",
       "      <td>2157</td>\n",
       "      <td>1947</td>\n",
       "    </tr>\n",
       "  </tbody>\n",
       "</table>\n",
       "</div>"
      ],
      "text/plain": [
       "Product_importance  high   low  medium\n",
       "Reached_on_time                       \n",
       "no                   616  3140    2807\n",
       "yes                  332  2157    1947"
      ]
     },
     "execution_count": 77,
     "metadata": {},
     "output_type": "execute_result"
    }
   ],
   "source": [
    "freqcount  = retail_c.value_counts(subset = ['Product_importance','Reached_on_time'], sort = False).reset_index(name ='count')\n",
    "freqcount = freqcount.pivot(index = 'Reached_on_time', columns = 'Product_importance', values = 'count')\n",
    "freqcount"
   ]
  },
  {
   "cell_type": "code",
   "execution_count": 78,
   "metadata": {},
   "outputs": [
    {
     "data": {
      "text/plain": [
       "[[616, 3140, 2807], [332, 2157, 1947]]"
      ]
     },
     "execution_count": 78,
     "metadata": {},
     "output_type": "execute_result"
    }
   ],
   "source": [
    "chi2 = freqcount.values.tolist()\n",
    "chi2"
   ]
  },
  {
   "cell_type": "code",
   "execution_count": 79,
   "metadata": {},
   "outputs": [
    {
     "name": "stdout",
     "output_type": "stream",
     "text": [
      "P-value is 0.0022303831047450844\n",
      "Dependent variable, reject H0\n"
     ]
    }
   ],
   "source": [
    "stat, p , dof, expected = chi2_contingency(chi2)\n",
    "alpha = 0.05\n",
    "print('P-value is ' + str(p))\n",
    "if p <= alpha:\n",
    "    print('Dependent variable, reject H0')\n",
    "else:\n",
    "    print('Independent variable, H0 holds')"
   ]
  },
  {
   "attachments": {},
   "cell_type": "markdown",
   "metadata": {},
   "source": [
    "As the chi-square test above rejects H0, Product importance of each product relate or have influence on delivery status.\n",
    "\n",
    "Unfortunately as this is nonparametric test, the relationship between both variable cannot be defined clearly.\n",
    "\n",
    "Further research with more detailed dataset is required to delve the relationship."
   ]
  },
  {
   "attachments": {},
   "cell_type": "markdown",
   "metadata": {},
   "source": [
    "### Checking the Relationship of Cost_of_product with Delivery Status"
   ]
  },
  {
   "attachments": {},
   "cell_type": "markdown",
   "metadata": {},
   "source": [
    "Cost_of_product is a numerical variable, so the distribution of the values inside must be checked.\n",
    "\n",
    "Parametric statistical test regarding numerical variable requires the data to follow normal distribution in order to proceed."
   ]
  },
  {
   "cell_type": "code",
   "execution_count": 80,
   "metadata": {},
   "outputs": [
    {
     "data": {
      "text/plain": [
       "Text(0.5, 1.0, 'Data Distribution of Cost_of_Product')"
      ]
     },
     "execution_count": 80,
     "metadata": {},
     "output_type": "execute_result"
    },
    {
     "data": {
      "image/png": "[encoded data removed]",
      "text/plain": [
       "<Figure size 500x500 with 1 Axes>"
      ]
     },
     "metadata": {},
     "output_type": "display_data"
    }
   ],
   "source": [
    "sns.displot(\n",
    "    data = retail_c,\n",
    "    x = 'Cost_of_the_Product'\n",
    ")\n",
    "plt.title('Data Distribution of Cost_of_Product')"
   ]
  },
  {
   "attachments": {},
   "cell_type": "markdown",
   "metadata": {},
   "source": [
    "The distribution of Cost_of_the_Product in the plot above is close to normal distribution. <br>\n",
    "In order to make sure, the values of Cost_of_the_Product can be tested for normality."
   ]
  },
  {
   "cell_type": "code",
   "execution_count": 81,
   "metadata": {},
   "outputs": [
    {
     "name": "stdout",
     "output_type": "stream",
     "text": [
      "The distribution of Cost_of_the_Product is normal distribution\n"
     ]
    }
   ],
   "source": [
    "alpha = 0.05\n",
    "k2, p = normaltest(retail_c['Cost_of_the_Product'])\n",
    "if p < alpha:\n",
    "    print('The distribution of Cost_of_the_Product is normal distribution')\n",
    "else:\n",
    "    print('The distribution of Cost_of_the_Product is not normal distribution')"
   ]
  },
  {
   "attachments": {},
   "cell_type": "markdown",
   "metadata": {},
   "source": [
    "In order to check the correlation between Cost_of_the_Product with Delivery Status, both variables can be tested with point-biserial test.\n",
    "\n",
    "Hypotesis in this test:\n",
    "<ul>\n",
    "<li>H0: There is no correlation between Cost_of_the_Product with Delivery Status (Reached.on.Time_Y.N)</li>\n",
    "<li>H1: There is correlation between Cost_of_the_Product with Delivery Status (Reached.on.Time_Y.N)</li>\n",
    "</ul>"
   ]
  },
  {
   "cell_type": "code",
   "execution_count": 82,
   "metadata": {},
   "outputs": [
    {
     "name": "stdout",
     "output_type": "stream",
     "text": [
      "Reject H0, Correlation between Cost_of_the_Product with Delivery Status (Reached.on.Time_Y.N) exists\n",
      "Correlation between Cost_of_the_Product with Delivery Status is: -0.07\n"
     ]
    }
   ],
   "source": [
    "alpha = 0.05\n",
    "biserial = pointbiserialr(retail_c['Cost_of_the_Product'],retail['Reached.on.Time_Y.N'])\n",
    "if biserial[1] < alpha:\n",
    "    print('Reject H0, Correlation between Cost_of_the_Product with Delivery Status (Reached.on.Time_Y.N) exists')\n",
    "    print(f'Correlation between Cost_of_the_Product with Delivery Status is: {biserial[0]:.2f}')\n",
    "else:\n",
    "    print('Reject H1, There is no correlation between Cost_of_the_Product with Delivery Status (Reached.on.Time_Y.N)')"
   ]
  },
  {
   "attachments": {},
   "cell_type": "markdown",
   "metadata": {},
   "source": [
    "The test show that Cost_of_the_Product have weak negative correlation with Delivery Status.\n",
    "\n",
    "Point-biserial test requires the binary variable as input so the test made with original Reached.on.Time_Y.N data with 0 as on time delivery and 1 as late delivery.\n",
    "\n",
    "It can be concluded that higher the product price, the delivery status tends to skew towards on time delivery."
   ]
  },
  {
   "attachments": {},
   "cell_type": "markdown",
   "metadata": {},
   "source": [
    "### Checking the Relationship of Customer_rating with Delivery Status"
   ]
  },
  {
   "attachments": {},
   "cell_type": "markdown",
   "metadata": {},
   "source": [
    "Customer_rating is a ordinal variable composed from 1-5 and Delivery status is binary variable then chi-square test is used to check the relatioship between variables.\n",
    "\n",
    "Hypothesis for the chi-square test are:\n",
    "    <ul>\n",
    "    <li>H0: Customer_rating on each product are not related or influenced on time delivery status</li>\n",
    "    <li>H1: Customer_rating on each product related or influenced on time delivery status</li>\n",
    "    </ul>"
   ]
  },
  {
   "cell_type": "code",
   "execution_count": 83,
   "metadata": {},
   "outputs": [
    {
     "data": {
      "text/html": [
       "<div>\n",
       "<style scoped>\n",
       "    .dataframe tbody tr th:only-of-type {\n",
       "        vertical-align: middle;\n",
       "    }\n",
       "\n",
       "    .dataframe tbody tr th {\n",
       "        vertical-align: top;\n",
       "    }\n",
       "\n",
       "    .dataframe thead th {\n",
       "        text-align: right;\n",
       "    }\n",
       "</style>\n",
       "<table border=\"1\" class=\"dataframe\">\n",
       "  <thead>\n",
       "    <tr style=\"text-align: right;\">\n",
       "      <th>Customer_rating</th>\n",
       "      <th>1</th>\n",
       "      <th>2</th>\n",
       "      <th>3</th>\n",
       "      <th>4</th>\n",
       "      <th>5</th>\n",
       "    </tr>\n",
       "    <tr>\n",
       "      <th>Reached_on_time</th>\n",
       "      <th></th>\n",
       "      <th></th>\n",
       "      <th></th>\n",
       "      <th></th>\n",
       "      <th></th>\n",
       "    </tr>\n",
       "  </thead>\n",
       "  <tbody>\n",
       "    <tr>\n",
       "      <th>no</th>\n",
       "      <td>1313</td>\n",
       "      <td>1273</td>\n",
       "      <td>1357</td>\n",
       "      <td>1303</td>\n",
       "      <td>1317</td>\n",
       "    </tr>\n",
       "    <tr>\n",
       "      <th>yes</th>\n",
       "      <td>922</td>\n",
       "      <td>892</td>\n",
       "      <td>882</td>\n",
       "      <td>886</td>\n",
       "      <td>854</td>\n",
       "    </tr>\n",
       "  </tbody>\n",
       "</table>\n",
       "</div>"
      ],
      "text/plain": [
       "Customer_rating     1     2     3     4     5\n",
       "Reached_on_time                              \n",
       "no               1313  1273  1357  1303  1317\n",
       "yes               922   892   882   886   854"
      ]
     },
     "execution_count": 83,
     "metadata": {},
     "output_type": "execute_result"
    }
   ],
   "source": [
    "freqcount  = retail_c.value_counts(subset = ['Customer_rating','Reached_on_time'], sort = False).reset_index(name ='count')\n",
    "freqcount = freqcount.pivot(index = 'Reached_on_time', columns = 'Customer_rating', values = 'count')\n",
    "freqcount"
   ]
  },
  {
   "cell_type": "code",
   "execution_count": 84,
   "metadata": {},
   "outputs": [
    {
     "data": {
      "text/plain": [
       "[[1313, 1273, 1357, 1303, 1317], [922, 892, 882, 886, 854]]"
      ]
     },
     "execution_count": 84,
     "metadata": {},
     "output_type": "execute_result"
    }
   ],
   "source": [
    "chi2 = freqcount.values.tolist()\n",
    "chi2"
   ]
  },
  {
   "cell_type": "code",
   "execution_count": 85,
   "metadata": {},
   "outputs": [
    {
     "name": "stdout",
     "output_type": "stream",
     "text": [
      "P-value is 0.5249236018493662\n",
      "Independent variable, H0 holds\n"
     ]
    }
   ],
   "source": [
    "stat, p , dof, expected = chi2_contingency(chi2)\n",
    "alpha = 0.05\n",
    "print('P-value is ' + str(p))\n",
    "if p <= alpha:\n",
    "    print('Dependent variable, reject H0')\n",
    "else:\n",
    "    print('Independent variable, H0 holds')"
   ]
  },
  {
   "attachments": {},
   "cell_type": "markdown",
   "metadata": {},
   "source": [
    "Chi-Square test result shows that both Customer_rating and Delivery status are independent variables so there are no relationship between both variables.\n",
    "\n",
    "Customer_rating is not influenced by delivery status, either late or on time will not affect customer rating."
   ]
  },
  {
   "attachments": {},
   "cell_type": "markdown",
   "metadata": {},
   "source": [
    "### Checking the Relationship of Customer_rating with Customer_care_calls\n",
    "As Customer_care_calls are numerical variable, the distribution of the values inside must be checked.\n",
    "\n",
    "Parametric statistical test regarding numerical variable requires the data to follow normal distribution in order to proceed."
   ]
  },
  {
   "cell_type": "code",
   "execution_count": 86,
   "metadata": {},
   "outputs": [
    {
     "data": {
      "text/plain": [
       "Text(0.5, 1.0, 'Data Distribution of Customer_care_calls')"
      ]
     },
     "execution_count": 86,
     "metadata": {},
     "output_type": "execute_result"
    },
    {
     "data": {
      "image/png": "[encoded data removed]",
      "text/plain": [
       "<Figure size 500x500 with 1 Axes>"
      ]
     },
     "metadata": {},
     "output_type": "display_data"
    }
   ],
   "source": [
    "sns.displot(\n",
    "    data = retail_c,\n",
    "    x = 'Customer_care_calls'\n",
    ")\n",
    "plt.title('Data Distribution of Customer_care_calls')"
   ]
  },
  {
   "attachments": {},
   "cell_type": "markdown",
   "metadata": {},
   "source": [
    "The data distribution of Customer_care_calls looks close to normal distribution.<br>\n",
    "In order to make sure the data distributed normally, the data will be tested with normaltest function."
   ]
  },
  {
   "cell_type": "code",
   "execution_count": 87,
   "metadata": {},
   "outputs": [
    {
     "name": "stdout",
     "output_type": "stream",
     "text": [
      "The distribution of Cost_of_the_Product is normal distribution\n"
     ]
    }
   ],
   "source": [
    "alpha = 0.05\n",
    "k2, p = normaltest(retail_c['Customer_care_calls'])\n",
    "if p < alpha:\n",
    "    print('The distribution of Cost_of_the_Product is normal distribution')\n",
    "else:\n",
    "    print('The distribution of Cost_of_the_Product is not normal distribution')"
   ]
  },
  {
   "attachments": {},
   "cell_type": "markdown",
   "metadata": {},
   "source": [
    "The normal test shows that Customer_care_calls are indeed distributed normally, so proceed to the statistical test.\n",
    "\n",
    "Conditions are similar when analyzing Cost_of_the_Product so the test used to check the relationship is point-biserial test.\n",
    "\n",
    "Hypotesis in this test are:\n",
    "<ul>\n",
    "<li>H0: There is no correlation between Customer_care_calls with Customer_rating</li>\n",
    "<li>H1: There is correlation between Customer_care_calls with Customer_rating</li>\n",
    "</ul>"
   ]
  },
  {
   "cell_type": "code",
   "execution_count": 88,
   "metadata": {},
   "outputs": [
    {
     "name": "stdout",
     "output_type": "stream",
     "text": [
      "Reject H1, There is no correlation between Customer_care_calls with Customer_rating\n"
     ]
    }
   ],
   "source": [
    "alpha = 0.05\n",
    "biserial = pointbiserialr(retail_c['Customer_care_calls'],retail['Customer_rating'])\n",
    "if biserial[1] < alpha:\n",
    "    print('Reject H0, Correlation between Customer_care_calls with Customer_rating exists')\n",
    "    print(f'Correlation between Customer_care_calls with Customer_rating is: {biserial[0]:.2f}')\n",
    "else:\n",
    "    print('Reject H1, There is no correlation between Customer_care_calls with Customer_rating')"
   ]
  },
  {
   "attachments": {},
   "cell_type": "markdown",
   "metadata": {},
   "source": [
    "Point-biserial test shows no correlation between Customer_care_calls with Customer_rating so both variables are independent from each other."
   ]
  },
  {
   "attachments": {},
   "cell_type": "markdown",
   "metadata": {},
   "source": [
    "## Conclusion"
   ]
  },
  {
   "attachments": {},
   "cell_type": "markdown",
   "metadata": {},
   "source": [
    "1. The worst performing Warehouse Block is Block B with the most worst delivery method is by ship.\n",
    "2. Product importance level has influence to delivery result but the details cannot be explained in this dataset.\n",
    "3. Product price has weak negative correlation with delivery status.\n",
    "4. Customer rating and delivery status are independent from each other.\n",
    "5. Customer care calls and customer rating are independent from each other."
   ]
  }
 ],
 "metadata": {
  "kernelspec": {
   "display_name": "base",
   "language": "python",
   "name": "python3"
  },
  "language_info": {
   "codemirror_mode": {
    "name": "ipython",
    "version": 3
   },
   "file_extension": ".py",
   "mimetype": "text/x-python",
   "name": "python",
   "nbconvert_exporter": "python",
   "pygments_lexer": "ipython3",
   "version": "3.9.13"
  },
  "orig_nbformat": 4
 },
 "nbformat": 4,
 "nbformat_minor": 2
}
